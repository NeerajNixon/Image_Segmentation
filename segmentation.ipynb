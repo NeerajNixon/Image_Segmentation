{
 "cells": [
  {
   "cell_type": "code",
   "execution_count": 20,
   "metadata": {},
   "outputs": [],
   "source": [
    "import torch\n",
    "import torch.nn as nn\n",
    "import torch.nn.functional as F\n",
    "import torch.optim as optim\n",
    "from torch.utils.data import Dataset, DataLoader\n",
    "import numpy as np\n",
    "from PIL import Image, ImageDraw\n",
    "import matplotlib.pyplot as plt"
   ]
  },
  {
   "cell_type": "code",
   "execution_count": 21,
   "metadata": {},
   "outputs": [],
   "source": [
    "class SyntheticShapesDataset(Dataset):\n",
    "    def __init__(self, num_images, image_size=(128, 128), colors=[\"red\", \"green\", \"blue\", \"orange\", \"purple\", \"brown\"], shape_types=[\"circle\", \"square\", \"rectangle\", \"triangle\"]):\n",
    "        self.num_images = num_images\n",
    "        self.image_size = image_size\n",
    "        self.colors = colors\n",
    "        self.shape_types = shape_types\n",
    "\n",
    "    def __len__(self):\n",
    "        return self.num_images\n",
    "\n",
    "    def __getitem__(self, idx):\n",
    "        shape_type = np.random.choice(self.shape_types)\n",
    "        color = np.random.choice(self.colors)\n",
    "        image, mask = self.generate_image_and_mask(shape_type, color)\n",
    "        return torch.from_numpy(image).permute(2, 0, 1).float(), torch.from_numpy(mask).unsqueeze(0).float()\n",
    "\n",
    "    def generate_image_and_mask(self, shape_type, color):\n",
    "        background_colors = [c for c in self.colors if c != color]\n",
    "        background_color = np.random.choice(background_colors) if background_colors else \"white\"\n",
    "\n",
    "        image = Image.new(\"RGB\", self.image_size, color=background_color)\n",
    "        mask = Image.new(\"L\", self.image_size, color=0)\n",
    "\n",
    "        draw_image = ImageDraw.Draw(image)\n",
    "        draw_mask = ImageDraw.Draw(mask)\n",
    "\n",
    "        if shape_type == \"circle\":\n",
    "            radius = np.random.randint(20, min(self.image_size) // 4)\n",
    "            upper_left = (np.random.randint(0, self.image_size[0] - radius),\n",
    "                          np.random.randint(0, self.image_size[1] - radius))\n",
    "            lower_right = (upper_left[0] + radius, upper_left[1] + radius)\n",
    "            draw_image.ellipse([upper_left, lower_right], fill=color)\n",
    "            draw_mask.ellipse([upper_left, lower_right], fill=255)\n",
    "\n",
    "        elif shape_type == \"square\":\n",
    "            side = np.random.randint(20, min(self.image_size) // 4)\n",
    "            upper_left = (np.random.randint(0, self.image_size[0] - side),\n",
    "                          np.random.randint(0, self.image_size[1] - side))\n",
    "            lower_right = (upper_left[0] + side, upper_left[1] + side)\n",
    "            draw_image.rectangle([upper_left, lower_right], fill=color)\n",
    "            draw_mask.rectangle([upper_left, lower_right], fill=255)\n",
    "\n",
    "        elif shape_type == \"rectangle\":\n",
    "            width = np.random.randint(20, self.image_size[0] // 4)\n",
    "            height = np.random.randint(20, self.image_size[1] // 4)\n",
    "            upper_left = (np.random.randint(0, self.image_size[0] - width),\n",
    "                          np.random.randint(0, self.image_size[1] - height))\n",
    "            lower_right = (upper_left[0] + width, upper_left[1] + height)\n",
    "            draw_image.rectangle([upper_left, lower_right], fill=color)\n",
    "            draw_mask.rectangle([upper_left, lower_right], fill=255)\n",
    "\n",
    "        elif shape_type == \"triangle\":\n",
    "            point1 = (np.random.randint(0, self.image_size[0]),\n",
    "                      np.random.randint(0, self.image_size[1]))\n",
    "            point2 = (np.random.randint(0, self.image_size[0]),\n",
    "                      np.random.randint(0, self.image_size[1]))\n",
    "            point3 = (np.random.randint(0, self.image_size[0]),\n",
    "                      np.random.randint(0, self.image_size[1]))\n",
    "            draw_image.polygon([point1, point2, point3], fill=color)\n",
    "            draw_mask.polygon([point1, point2, point3], fill=255)\n",
    "\n",
    "        return np.array(image), np.array(mask)\n"
   ]
  },
  {
   "cell_type": "code",
   "execution_count": 22,
   "metadata": {},
   "outputs": [
    {
     "data": {
      "image/png": "[encoded data removed]",
      "text/plain": [
       "<Figure size 600x300 with 2 Axes>"
      ]
     },
     "metadata": {},
     "output_type": "display_data"
    }
   ],
   "source": [
    "updated_dataset = SyntheticShapesDataset(100)\n",
    "image, mask = updated_dataset[0]\n",
    "\n",
    "plt.figure(figsize=(6, 3))\n",
    "plt.subplot(1, 2, 1)\n",
    "plt.imshow(image.permute(1, 2, 0).numpy().astype(np.uint8))\n",
    "plt.title(\"Synthetic Image\")\n",
    "plt.subplot(1, 2, 2)\n",
    "plt.imshow(mask.squeeze().numpy(), cmap=\"gray\")\n",
    "plt.title(\"Mask\")\n",
    "plt.show()"
   ]
  },
  {
   "cell_type": "code",
   "execution_count": 23,
   "metadata": {},
   "outputs": [],
   "source": [
    "class UNet(nn.Module):\n",
    "    def __init__(self):\n",
    "        super(UNet, self).__init__()\n",
    "\n",
    "        # Downscaling\n",
    "        self.down_conv1 = self.conv_stage(3, 16)\n",
    "        self.down_conv2 = self.conv_stage(16, 32)\n",
    "        self.down_conv3 = self.conv_stage(32, 64)\n",
    "        self.down_conv4 = self.conv_stage(64, 128)\n",
    "\n",
    "        # Bottleneck\n",
    "        self.bottleneck = self.conv_stage(128, 256)\n",
    "\n",
    "        # Upscaling\n",
    "        self.up_conv4 = self.conv_stage(256 + 128, 128)\n",
    "        self.up_conv3 = self.conv_stage(128 + 64, 64)\n",
    "        self.up_conv2 = self.conv_stage(64 + 32, 32)\n",
    "        self.up_conv1 = self.conv_stage(32 + 16, 16)\n",
    "\n",
    "        # Output layer\n",
    "        self.final_layer = nn.Conv2d(16, 1, kernel_size=1)\n",
    "        self.sigmoid = nn.Sigmoid()\n",
    "\n",
    "    def conv_stage(self, in_channels, out_channels):\n",
    "        conv_stage = nn.Sequential(\n",
    "            nn.Conv2d(in_channels, out_channels, kernel_size=3, padding=1),\n",
    "            nn.ReLU(inplace=True),\n",
    "            nn.Conv2d(out_channels, out_channels, kernel_size=3, padding=1),\n",
    "            nn.ReLU(inplace=True)\n",
    "        )\n",
    "        return conv_stage\n",
    "\n",
    "    def forward(self, x):\n",
    "        # Downscaling\n",
    "        conv1 = self.down_conv1(x)\n",
    "        x = F.max_pool2d(conv1, 2)\n",
    "        conv2 = self.down_conv2(x)\n",
    "        x = F.max_pool2d(conv2, 2)\n",
    "        conv3 = self.down_conv3(x)\n",
    "        x = F.max_pool2d(conv3, 2)\n",
    "        conv4 = self.down_conv4(x)\n",
    "        x = F.max_pool2d(conv4, 2)\n",
    "\n",
    "        # Bottleneck\n",
    "        x = self.bottleneck(x)\n",
    "\n",
    "        # Upscaling + concatenate\n",
    "        x = F.interpolate(x, scale_factor=2)\n",
    "        x = torch.cat([x, conv4], dim=1)\n",
    "        x = self.up_conv4(x)\n",
    "        x = F.interpolate(x, scale_factor=2)\n",
    "        x = torch.cat([x, conv3], dim=1)\n",
    "        x = self.up_conv3(x)\n",
    "        x = F.interpolate(x, scale_factor=2)\n",
    "        x = torch.cat([x, conv2], dim=1)\n",
    "        x = self.up_conv2(x)\n",
    "        x = F.interpolate(x, scale_factor=2)\n",
    "        x = torch.cat([x, conv1], dim=1)\n",
    "        x = self.up_conv1(x)\n",
    "\n",
    "        # Output\n",
    "        x = self.final_layer(x)\n",
    "        x = self.sigmoid(x)\n",
    "        return x\n"
   ]
  },
  {
   "cell_type": "code",
   "execution_count": 24,
   "metadata": {},
   "outputs": [],
   "source": [
    "train_dataset = SyntheticShapesDataset(500)\n",
    "val_dataset = SyntheticShapesDataset(100)"
   ]
  },
  {
   "cell_type": "code",
   "execution_count": 25,
   "metadata": {},
   "outputs": [],
   "source": [
    "def iou_score(output, target, threshold=0.5):\n",
    "    # Apply sigmoid to output and detach from the computation graph\n",
    "    output = output.detach()\n",
    "\n",
    "    # Convert outputs and targets to boolean tensors\n",
    "    output_bool = output > threshold\n",
    "    target_bool = target > threshold\n",
    "\n",
    "    # Perform bitwise operations on boolean tensors\n",
    "    intersection = (output_bool & target_bool).float().sum((1, 2))\n",
    "    union = (output_bool | target_bool).float().sum((1, 2))\n",
    "\n",
    "    smooth = 1e-6\n",
    "    iou = (intersection + smooth) / (union + smooth)  # Avoid division by zero\n",
    "    return iou.mean()"
   ]
  },
  {
   "cell_type": "code",
   "execution_count": 26,
   "metadata": {},
   "outputs": [],
   "source": [
    "train_loader = DataLoader(train_dataset, batch_size=32, shuffle=True)\n",
    "val_loader = DataLoader(val_dataset, batch_size=32)"
   ]
  },
  {
   "cell_type": "code",
   "execution_count": 27,
   "metadata": {},
   "outputs": [],
   "source": [
    "model = UNet()"
   ]
  },
  {
   "cell_type": "code",
   "execution_count": 28,
   "metadata": {},
   "outputs": [],
   "source": [
    "criterion = nn.BCELoss()\n",
    "optimizer = optim.Adam(model.parameters(), lr=0.001)"
   ]
  },
  {
   "cell_type": "code",
   "execution_count": 29,
   "metadata": {},
   "outputs": [],
   "source": [
    "device = torch.device(\"cuda\" if torch.cuda.is_available() else \"cpu\")"
   ]
  },
  {
   "cell_type": "code",
   "execution_count": 30,
   "metadata": {},
   "outputs": [],
   "source": [
    "def train_and_evaluate(model, train_loader, val_loader, criterion, optimizer, num_epochs=10):\n",
    "    for epoch in range(num_epochs):\n",
    "        model.train()\n",
    "        train_loss = 0.0\n",
    "        train_iou, train_dice = 0.0, 0.0\n",
    "\n",
    "        # Training loop\n",
    "        for images, masks in train_loader:\n",
    "            images, masks = images.to(device), masks.to(device)\n",
    "            optimizer.zero_grad()\n",
    "            outputs = model(images)\n",
    "            loss = criterion(outputs, masks/255)\n",
    "            loss.backward()\n",
    "            optimizer.step()\n",
    "\n",
    "            train_loss += loss.item()\n",
    "            train_iou += iou_score(outputs, masks/255).item()\n",
    "            \n",
    "\n",
    "        # Average over the dataset\n",
    "        train_loss /= len(train_loader)\n",
    "        train_iou /= len(train_loader)\n",
    "        \n",
    "\n",
    "        # Validation loop\n",
    "        model.eval()\n",
    "        val_loss = 0.0\n",
    "        val_iou, val_dice = 0.0, 0.0\n",
    "        with torch.no_grad():\n",
    "            for images, masks in val_loader:\n",
    "                images, masks = images.to(device), masks.to(device)\n",
    "                outputs = model(images)\n",
    "                loss = criterion(outputs, masks/255)\n",
    "                val_loss += loss.item()\n",
    "                val_iou += iou_score(outputs, masks/255).item()\n",
    "                \n",
    "\n",
    "        # Average over the dataset\n",
    "        val_loss /= len(val_loader)\n",
    "        val_iou /= len(val_loader)\n",
    "        \n",
    "\n",
    "        # Print metrics\n",
    "        print(f\"Epoch {epoch+1}/{num_epochs} - Train loss: {train_loss:.4f}, IoU: {train_iou:.4f} - \"\n",
    "              f\"Val loss: {val_loss:.4f}, IoU: {val_iou:.4f}\")\n",
    "\n",
    "\n"
   ]
  },
  {
   "cell_type": "code",
   "execution_count": 31,
   "metadata": {},
   "outputs": [
    {
     "name": "stdout",
     "output_type": "stream",
     "text": [
      "Epoch 1/15 - Train loss: 0.2711, IoU: 0.6850 - Val loss: 0.2222, IoU: 0.6509\n",
      "Epoch 2/15 - Train loss: 0.1921, IoU: 0.7145 - Val loss: 0.2005, IoU: 0.7102\n",
      "Epoch 3/15 - Train loss: 0.1502, IoU: 0.7393 - Val loss: 0.1557, IoU: 0.7582\n",
      "Epoch 4/15 - Train loss: 0.1122, IoU: 0.7752 - Val loss: 0.0875, IoU: 0.8008\n",
      "Epoch 5/15 - Train loss: 0.0875, IoU: 0.8123 - Val loss: 0.0786, IoU: 0.8312\n",
      "Epoch 6/15 - Train loss: 0.0821, IoU: 0.8444 - Val loss: 0.0686, IoU: 0.8571\n",
      "Epoch 7/15 - Train loss: 0.0794, IoU: 0.8469 - Val loss: 0.0584, IoU: 0.8876\n",
      "Epoch 8/15 - Train loss: 0.0593, IoU: 0.8618 - Val loss: 0.0441, IoU: 0.9061\n",
      "Epoch 9/15 - Train loss: 0.0343, IoU: 0.9198 - Val loss: 0.0362, IoU: 0.9036\n",
      "Epoch 10/15 - Train loss: 0.0497, IoU: 0.9010 - Val loss: 0.0261, IoU: 0.9077\n",
      "Epoch 11/15 - Train loss: 0.0186, IoU: 0.9463 - Val loss: 0.0139, IoU: 0.9578\n",
      "Epoch 12/15 - Train loss: 0.0529, IoU: 0.9346 - Val loss: 0.0427, IoU: 0.8944\n",
      "Epoch 13/15 - Train loss: 0.0309, IoU: 0.9331 - Val loss: 0.0183, IoU: 0.9481\n",
      "Epoch 14/15 - Train loss: 0.0157, IoU: 0.9480 - Val loss: 0.0144, IoU: 0.9557\n",
      "Epoch 15/15 - Train loss: 0.0130, IoU: 0.9566 - Val loss: 0.0128, IoU: 0.9616\n"
     ]
    }
   ],
   "source": [
    "train_and_evaluate(model, train_loader, val_loader, criterion, optimizer, num_epochs=15)"
   ]
  },
  {
   "cell_type": "code",
   "execution_count": 32,
   "metadata": {},
   "outputs": [],
   "source": [
    "torch.save(model, \"unet_model.h5\")"
   ]
  },
  {
   "cell_type": "code",
   "execution_count": 34,
   "metadata": {},
   "outputs": [
    {
     "name": "stderr",
     "output_type": "stream",
     "text": [
      "Clipping input data to the valid range for imshow with RGB data ([0..1] for floats or [0..255] for integers).\n",
      "Clipping input data to the valid range for imshow with RGB data ([0..1] for floats or [0..255] for integers).\n",
      "Clipping input data to the valid range for imshow with RGB data ([0..1] for floats or [0..255] for integers).\n",
      "Clipping input data to the valid range for imshow with RGB data ([0..1] for floats or [0..255] for integers).\n"
     ]
    },
    {
     "data": {
      "image/png": "[encoded data removed]",
      "text/plain": [
       "<Figure size 1000x500 with 8 Axes>"
      ]
     },
     "metadata": {},
     "output_type": "display_data"
    }
   ],
   "source": [
    "model.eval()\n",
    "with torch.no_grad():\n",
    "    images, masks = next(iter(val_loader))\n",
    "    images = images.to(device)\n",
    "    outputs = model(images)\n",
    "    outputs =outputs > 0.5\n",
    "    outputs = outputs * 255\n",
    "    images = images.cpu()\n",
    "    outputs = outputs.cpu()\n",
    "\n",
    "    plt.figure(figsize=(10, 5))\n",
    "    for i in range(4):\n",
    "        plt.subplot(2, 4, i + 1)\n",
    "        plt.imshow(images[i].permute(1, 2, 0).numpy())\n",
    "        plt.title(\"Original Image\")\n",
    "        plt.axis(\"off\")\n",
    "\n",
    "        plt.subplot(2, 4, i + 5)\n",
    "        plt.imshow(outputs[i].squeeze().numpy(), cmap=\"gray\")\n",
    "        plt.title(\"Predicted Mask\")\n",
    "        plt.axis(\"off\")\n",
    "    plt.show()"
   ]
  }
 ],
 "metadata": {
  "kernelspec": {
   "display_name": "base",
   "language": "python",
   "name": "python3"
  },
  "language_info": {
   "codemirror_mode": {
    "name": "ipython",
    "version": 3
   },
   "file_extension": ".py",
   "mimetype": "text/x-python",
   "name": "python",
   "nbconvert_exporter": "python",
   "pygments_lexer": "ipython3",
   "version": "3.8.0"
  }
 },
 "nbformat": 4,
 "nbformat_minor": 2
}
